{
 "cells": [
  {
   "cell_type": "markdown",
   "id": "b78db4eb",
   "metadata": {},
   "source": [
    "# Impors"
   ]
  },
  {
   "cell_type": "code",
   "execution_count": 48,
   "id": "6744d48b",
   "metadata": {
    "ExecuteTime": {
     "end_time": "2023-03-18T21:37:35.330228Z",
     "start_time": "2023-03-18T21:37:35.324915Z"
    }
   },
   "outputs": [],
   "source": [
    "import pandas as pd\n",
    "from sklearn.preprocessing import StandardScaler\n",
    "\n",
    "from sklearn.linear_model import LogisticRegression\n",
    "\n",
    "from sklearn.metrics import balanced_accuracy_score, confusion_matrix\n",
    "\n",
    "import numpy as np"
   ]
  },
  {
   "cell_type": "markdown",
   "id": "fa398f08",
   "metadata": {},
   "source": [
    "# Load data"
   ]
  },
  {
   "cell_type": "code",
   "execution_count": 49,
   "id": "9bace504",
   "metadata": {
    "ExecuteTime": {
     "end_time": "2023-03-18T21:37:35.712226Z",
     "start_time": "2023-03-18T21:37:35.644008Z"
    }
   },
   "outputs": [
    {
     "name": "stdout",
     "output_type": "stream",
     "text": [
      "(27838, 18)\n"
     ]
    },
    {
     "data": {
      "text/html": [
       "<div>\n",
       "<style scoped>\n",
       "    .dataframe tbody tr th:only-of-type {\n",
       "        vertical-align: middle;\n",
       "    }\n",
       "\n",
       "    .dataframe tbody tr th {\n",
       "        vertical-align: top;\n",
       "    }\n",
       "\n",
       "    .dataframe thead th {\n",
       "        text-align: right;\n",
       "    }\n",
       "</style>\n",
       "<table border=\"1\" class=\"dataframe\">\n",
       "  <thead>\n",
       "    <tr style=\"text-align: right;\">\n",
       "      <th></th>\n",
       "      <th>age</th>\n",
       "      <th>workclass</th>\n",
       "      <th>fnlwgt</th>\n",
       "      <th>education</th>\n",
       "      <th>education.num</th>\n",
       "      <th>marital.status</th>\n",
       "      <th>occupation</th>\n",
       "      <th>relationship</th>\n",
       "      <th>race</th>\n",
       "      <th>sex</th>\n",
       "      <th>capital.gain</th>\n",
       "      <th>capital.loss</th>\n",
       "      <th>hours.per.week</th>\n",
       "      <th>native.country</th>\n",
       "      <th>income</th>\n",
       "      <th>native.country_is_NA</th>\n",
       "      <th>workclass_is_NA</th>\n",
       "      <th>occupation_is_NA</th>\n",
       "    </tr>\n",
       "  </thead>\n",
       "  <tbody>\n",
       "    <tr>\n",
       "      <th>0</th>\n",
       "      <td>31</td>\n",
       "      <td>3</td>\n",
       "      <td>124827</td>\n",
       "      <td>8</td>\n",
       "      <td>11</td>\n",
       "      <td>2</td>\n",
       "      <td>11</td>\n",
       "      <td>0</td>\n",
       "      <td>4</td>\n",
       "      <td>1</td>\n",
       "      <td>0</td>\n",
       "      <td>0</td>\n",
       "      <td>40</td>\n",
       "      <td>38</td>\n",
       "      <td>&gt;50K</td>\n",
       "      <td>False</td>\n",
       "      <td>False</td>\n",
       "      <td>False</td>\n",
       "    </tr>\n",
       "    <tr>\n",
       "      <th>1</th>\n",
       "      <td>27</td>\n",
       "      <td>4</td>\n",
       "      <td>89718</td>\n",
       "      <td>15</td>\n",
       "      <td>10</td>\n",
       "      <td>5</td>\n",
       "      <td>11</td>\n",
       "      <td>3</td>\n",
       "      <td>4</td>\n",
       "      <td>0</td>\n",
       "      <td>0</td>\n",
       "      <td>0</td>\n",
       "      <td>40</td>\n",
       "      <td>38</td>\n",
       "      <td>&lt;=50K</td>\n",
       "      <td>False</td>\n",
       "      <td>False</td>\n",
       "      <td>False</td>\n",
       "    </tr>\n",
       "    <tr>\n",
       "      <th>2</th>\n",
       "      <td>37</td>\n",
       "      <td>3</td>\n",
       "      <td>224947</td>\n",
       "      <td>8</td>\n",
       "      <td>11</td>\n",
       "      <td>4</td>\n",
       "      <td>7</td>\n",
       "      <td>1</td>\n",
       "      <td>4</td>\n",
       "      <td>1</td>\n",
       "      <td>0</td>\n",
       "      <td>0</td>\n",
       "      <td>40</td>\n",
       "      <td>38</td>\n",
       "      <td>&lt;=50K</td>\n",
       "      <td>False</td>\n",
       "      <td>False</td>\n",
       "      <td>False</td>\n",
       "    </tr>\n",
       "    <tr>\n",
       "      <th>3</th>\n",
       "      <td>40</td>\n",
       "      <td>6</td>\n",
       "      <td>269733</td>\n",
       "      <td>8</td>\n",
       "      <td>11</td>\n",
       "      <td>4</td>\n",
       "      <td>2</td>\n",
       "      <td>1</td>\n",
       "      <td>4</td>\n",
       "      <td>1</td>\n",
       "      <td>0</td>\n",
       "      <td>0</td>\n",
       "      <td>40</td>\n",
       "      <td>38</td>\n",
       "      <td>&lt;=50K</td>\n",
       "      <td>False</td>\n",
       "      <td>False</td>\n",
       "      <td>False</td>\n",
       "    </tr>\n",
       "    <tr>\n",
       "      <th>4</th>\n",
       "      <td>57</td>\n",
       "      <td>4</td>\n",
       "      <td>125000</td>\n",
       "      <td>14</td>\n",
       "      <td>15</td>\n",
       "      <td>2</td>\n",
       "      <td>9</td>\n",
       "      <td>0</td>\n",
       "      <td>4</td>\n",
       "      <td>1</td>\n",
       "      <td>0</td>\n",
       "      <td>0</td>\n",
       "      <td>35</td>\n",
       "      <td>38</td>\n",
       "      <td>&gt;50K</td>\n",
       "      <td>False</td>\n",
       "      <td>False</td>\n",
       "      <td>False</td>\n",
       "    </tr>\n",
       "  </tbody>\n",
       "</table>\n",
       "</div>"
      ],
      "text/plain": [
       "   age  workclass  fnlwgt  education  education.num  marital.status  \\\n",
       "0   31          3  124827          8             11               2   \n",
       "1   27          4   89718         15             10               5   \n",
       "2   37          3  224947          8             11               4   \n",
       "3   40          6  269733          8             11               4   \n",
       "4   57          4  125000         14             15               2   \n",
       "\n",
       "   occupation  relationship  race  sex  capital.gain  capital.loss  \\\n",
       "0          11             0     4    1             0             0   \n",
       "1          11             3     4    0             0             0   \n",
       "2           7             1     4    1             0             0   \n",
       "3           2             1     4    1             0             0   \n",
       "4           9             0     4    1             0             0   \n",
       "\n",
       "   hours.per.week  native.country income  native.country_is_NA  \\\n",
       "0              40              38   >50K                 False   \n",
       "1              40              38  <=50K                 False   \n",
       "2              40              38  <=50K                 False   \n",
       "3              40              38  <=50K                 False   \n",
       "4              35              38   >50K                 False   \n",
       "\n",
       "   workclass_is_NA  occupation_is_NA  \n",
       "0            False             False  \n",
       "1            False             False  \n",
       "2            False             False  \n",
       "3            False             False  \n",
       "4            False             False  "
      ]
     },
     "execution_count": 49,
     "metadata": {},
     "output_type": "execute_result"
    }
   ],
   "source": [
    "df_train = pd.read_csv('data/ready/train.csv')\n",
    "print(df_train.shape)\n",
    "df_train.head()"
   ]
  },
  {
   "cell_type": "code",
   "execution_count": 50,
   "id": "2f46e859",
   "metadata": {
    "ExecuteTime": {
     "end_time": "2023-03-18T21:37:35.843935Z",
     "start_time": "2023-03-18T21:37:35.818397Z"
    }
   },
   "outputs": [
    {
     "name": "stdout",
     "output_type": "stream",
     "text": [
      "(3094, 18)\n"
     ]
    },
    {
     "data": {
      "text/html": [
       "<div>\n",
       "<style scoped>\n",
       "    .dataframe tbody tr th:only-of-type {\n",
       "        vertical-align: middle;\n",
       "    }\n",
       "\n",
       "    .dataframe tbody tr th {\n",
       "        vertical-align: top;\n",
       "    }\n",
       "\n",
       "    .dataframe thead th {\n",
       "        text-align: right;\n",
       "    }\n",
       "</style>\n",
       "<table border=\"1\" class=\"dataframe\">\n",
       "  <thead>\n",
       "    <tr style=\"text-align: right;\">\n",
       "      <th></th>\n",
       "      <th>age</th>\n",
       "      <th>workclass</th>\n",
       "      <th>fnlwgt</th>\n",
       "      <th>education</th>\n",
       "      <th>education.num</th>\n",
       "      <th>marital.status</th>\n",
       "      <th>occupation</th>\n",
       "      <th>relationship</th>\n",
       "      <th>race</th>\n",
       "      <th>sex</th>\n",
       "      <th>capital.gain</th>\n",
       "      <th>capital.loss</th>\n",
       "      <th>hours.per.week</th>\n",
       "      <th>native.country</th>\n",
       "      <th>income</th>\n",
       "      <th>native.country_is_NA</th>\n",
       "      <th>workclass_is_NA</th>\n",
       "      <th>occupation_is_NA</th>\n",
       "    </tr>\n",
       "  </thead>\n",
       "  <tbody>\n",
       "    <tr>\n",
       "      <th>0</th>\n",
       "      <td>58</td>\n",
       "      <td>3</td>\n",
       "      <td>128162</td>\n",
       "      <td>11</td>\n",
       "      <td>9</td>\n",
       "      <td>0</td>\n",
       "      <td>11</td>\n",
       "      <td>1</td>\n",
       "      <td>4</td>\n",
       "      <td>0</td>\n",
       "      <td>0</td>\n",
       "      <td>0</td>\n",
       "      <td>24</td>\n",
       "      <td>38</td>\n",
       "      <td>&lt;=50K</td>\n",
       "      <td>False</td>\n",
       "      <td>False</td>\n",
       "      <td>False</td>\n",
       "    </tr>\n",
       "    <tr>\n",
       "      <th>1</th>\n",
       "      <td>25</td>\n",
       "      <td>3</td>\n",
       "      <td>570821</td>\n",
       "      <td>15</td>\n",
       "      <td>10</td>\n",
       "      <td>2</td>\n",
       "      <td>6</td>\n",
       "      <td>0</td>\n",
       "      <td>4</td>\n",
       "      <td>1</td>\n",
       "      <td>0</td>\n",
       "      <td>0</td>\n",
       "      <td>40</td>\n",
       "      <td>38</td>\n",
       "      <td>&lt;=50K</td>\n",
       "      <td>False</td>\n",
       "      <td>False</td>\n",
       "      <td>False</td>\n",
       "    </tr>\n",
       "    <tr>\n",
       "      <th>2</th>\n",
       "      <td>50</td>\n",
       "      <td>3</td>\n",
       "      <td>43764</td>\n",
       "      <td>10</td>\n",
       "      <td>16</td>\n",
       "      <td>2</td>\n",
       "      <td>9</td>\n",
       "      <td>0</td>\n",
       "      <td>4</td>\n",
       "      <td>1</td>\n",
       "      <td>15024</td>\n",
       "      <td>0</td>\n",
       "      <td>50</td>\n",
       "      <td>38</td>\n",
       "      <td>&gt;50K</td>\n",
       "      <td>False</td>\n",
       "      <td>False</td>\n",
       "      <td>False</td>\n",
       "    </tr>\n",
       "    <tr>\n",
       "      <th>3</th>\n",
       "      <td>21</td>\n",
       "      <td>7</td>\n",
       "      <td>207988</td>\n",
       "      <td>11</td>\n",
       "      <td>9</td>\n",
       "      <td>2</td>\n",
       "      <td>14</td>\n",
       "      <td>2</td>\n",
       "      <td>4</td>\n",
       "      <td>0</td>\n",
       "      <td>0</td>\n",
       "      <td>0</td>\n",
       "      <td>35</td>\n",
       "      <td>38</td>\n",
       "      <td>&lt;=50K</td>\n",
       "      <td>False</td>\n",
       "      <td>True</td>\n",
       "      <td>True</td>\n",
       "    </tr>\n",
       "    <tr>\n",
       "      <th>4</th>\n",
       "      <td>41</td>\n",
       "      <td>5</td>\n",
       "      <td>112362</td>\n",
       "      <td>11</td>\n",
       "      <td>9</td>\n",
       "      <td>2</td>\n",
       "      <td>4</td>\n",
       "      <td>0</td>\n",
       "      <td>4</td>\n",
       "      <td>1</td>\n",
       "      <td>0</td>\n",
       "      <td>0</td>\n",
       "      <td>38</td>\n",
       "      <td>38</td>\n",
       "      <td>&lt;=50K</td>\n",
       "      <td>False</td>\n",
       "      <td>False</td>\n",
       "      <td>False</td>\n",
       "    </tr>\n",
       "  </tbody>\n",
       "</table>\n",
       "</div>"
      ],
      "text/plain": [
       "   age  workclass  fnlwgt  education  education.num  marital.status  \\\n",
       "0   58          3  128162         11              9               0   \n",
       "1   25          3  570821         15             10               2   \n",
       "2   50          3   43764         10             16               2   \n",
       "3   21          7  207988         11              9               2   \n",
       "4   41          5  112362         11              9               2   \n",
       "\n",
       "   occupation  relationship  race  sex  capital.gain  capital.loss  \\\n",
       "0          11             1     4    0             0             0   \n",
       "1           6             0     4    1             0             0   \n",
       "2           9             0     4    1         15024             0   \n",
       "3          14             2     4    0             0             0   \n",
       "4           4             0     4    1             0             0   \n",
       "\n",
       "   hours.per.week  native.country income  native.country_is_NA  \\\n",
       "0              24              38  <=50K                 False   \n",
       "1              40              38  <=50K                 False   \n",
       "2              50              38   >50K                 False   \n",
       "3              35              38  <=50K                 False   \n",
       "4              38              38  <=50K                 False   \n",
       "\n",
       "   workclass_is_NA  occupation_is_NA  \n",
       "0            False             False  \n",
       "1            False             False  \n",
       "2            False             False  \n",
       "3             True              True  \n",
       "4            False             False  "
      ]
     },
     "execution_count": 50,
     "metadata": {},
     "output_type": "execute_result"
    }
   ],
   "source": [
    "df_val = pd.read_csv('data/ready/val.csv')\n",
    "print(df_val.shape)\n",
    "df_val.head()"
   ]
  },
  {
   "cell_type": "markdown",
   "id": "551bafe3",
   "metadata": {},
   "source": [
    "# Prepare dataset"
   ]
  },
  {
   "cell_type": "markdown",
   "id": "bb3ce83c",
   "metadata": {},
   "source": [
    "## Prep target"
   ]
  },
  {
   "cell_type": "code",
   "execution_count": 51,
   "id": "80ee4991",
   "metadata": {
    "ExecuteTime": {
     "end_time": "2023-03-18T21:37:36.294413Z",
     "start_time": "2023-03-18T21:37:36.278835Z"
    }
   },
   "outputs": [
    {
     "data": {
      "text/plain": [
       "0    2356\n",
       "1     738\n",
       "Name: income, dtype: int64"
      ]
     },
     "execution_count": 51,
     "metadata": {},
     "output_type": "execute_result"
    }
   ],
   "source": [
    "target_dict = {'<=50K': 0\n",
    "              , '>50K': 1}\n",
    "\n",
    "df_val['income'].replace(target_dict, inplace=True)\n",
    "df_val['income'].value_counts()"
   ]
  },
  {
   "cell_type": "code",
   "execution_count": 52,
   "id": "dff8cf59",
   "metadata": {
    "ExecuteTime": {
     "end_time": "2023-03-18T21:37:36.474356Z",
     "start_time": "2023-03-18T21:37:36.443945Z"
    }
   },
   "outputs": [
    {
     "data": {
      "text/plain": [
       "0    21123\n",
       "1     6715\n",
       "Name: income, dtype: int64"
      ]
     },
     "execution_count": 52,
     "metadata": {},
     "output_type": "execute_result"
    }
   ],
   "source": [
    "df_train['income'].replace(target_dict, inplace=True)\n",
    "df_train['income'].value_counts()"
   ]
  },
  {
   "cell_type": "markdown",
   "id": "99389527",
   "metadata": {},
   "source": [
    "## Prep X"
   ]
  },
  {
   "cell_type": "code",
   "execution_count": 53,
   "id": "14335b56",
   "metadata": {
    "ExecuteTime": {
     "end_time": "2023-03-18T21:37:36.936899Z",
     "start_time": "2023-03-18T21:37:36.752266Z"
    }
   },
   "outputs": [
    {
     "name": "stderr",
     "output_type": "stream",
     "text": [
      "/var/folders/yl/z922qgpd7wq35049r7_cn54m0000gn/T/ipykernel_10340/3242903636.py:5: FutureWarning: Passing a set as an indexer is deprecated and will raise in a future version. Use a list instead.\n",
      "  df_train.loc[:, cols_x] = scaler.fit_transform(df_train[cols_x])\n",
      "/var/folders/yl/z922qgpd7wq35049r7_cn54m0000gn/T/ipykernel_10340/3242903636.py:5: FutureWarning: Passing a set as an indexer is deprecated and will raise in a future version. Use a list instead.\n",
      "  df_train.loc[:, cols_x] = scaler.fit_transform(df_train[cols_x])\n",
      "/var/folders/yl/z922qgpd7wq35049r7_cn54m0000gn/T/ipykernel_10340/3242903636.py:6: FutureWarning: Passing a set as an indexer is deprecated and will raise in a future version. Use a list instead.\n",
      "  df_val.loc[:, cols_x] = scaler.transform(df_val[cols_x])\n",
      "/var/folders/yl/z922qgpd7wq35049r7_cn54m0000gn/T/ipykernel_10340/3242903636.py:6: FutureWarning: Passing a set as an indexer is deprecated and will raise in a future version. Use a list instead.\n",
      "  df_val.loc[:, cols_x] = scaler.transform(df_val[cols_x])\n"
     ]
    }
   ],
   "source": [
    "scaler = StandardScaler()\n",
    "\n",
    "cols_x = set(df_train) - set(['income'])\n",
    "\n",
    "df_train.loc[:, cols_x] = scaler.fit_transform(df_train[cols_x])\n",
    "df_val.loc[:, cols_x] = scaler.transform(df_val[cols_x])"
   ]
  },
  {
   "cell_type": "markdown",
   "id": "d38d4729",
   "metadata": {},
   "source": [
    "# sklearn model"
   ]
  },
  {
   "cell_type": "code",
   "execution_count": 54,
   "id": "355c9a6a",
   "metadata": {
    "ExecuteTime": {
     "end_time": "2023-03-18T21:37:37.072748Z",
     "start_time": "2023-03-18T21:37:37.066209Z"
    }
   },
   "outputs": [
    {
     "data": {
      "text/plain": [
       "0        1\n",
       "1        0\n",
       "2        0\n",
       "3        0\n",
       "4        1\n",
       "        ..\n",
       "27833    0\n",
       "27834    0\n",
       "27835    0\n",
       "27836    1\n",
       "27837    1\n",
       "Name: income, Length: 27838, dtype: int64"
      ]
     },
     "execution_count": 54,
     "metadata": {},
     "output_type": "execute_result"
    }
   ],
   "source": [
    "df_train['income']"
   ]
  },
  {
   "cell_type": "code",
   "execution_count": 55,
   "id": "b10ffe0b",
   "metadata": {
    "ExecuteTime": {
     "end_time": "2023-03-18T21:37:37.344705Z",
     "start_time": "2023-03-18T21:37:37.246889Z"
    }
   },
   "outputs": [
    {
     "name": "stdout",
     "output_type": "stream",
     "text": [
      "Train Balanced accuracy: 0.7010816305545624\n",
      "Validation Balanced accuracy: 0.699237028448383\n"
     ]
    },
    {
     "data": {
      "text/plain": [
       "array([[2203,  153],\n",
       "       [ 396,  342]])"
      ]
     },
     "metadata": {},
     "output_type": "display_data"
    }
   ],
   "source": [
    "lr = LogisticRegression()\n",
    "\n",
    "lr.fit(df_train.drop(columns='income'), df_train['income'])\n",
    "\n",
    "y_pred_train = lr.predict(df_train.drop(columns='income'))\n",
    "y_pred_val = lr.predict(df_val.drop(columns='income'))\n",
    "\n",
    "print('Train Balanced accuracy:', balanced_accuracy_score(df_train['income'], y_pred_train))\n",
    "print('Validation Balanced accuracy:', balanced_accuracy_score(df_val['income'], y_pred_val))\n",
    "\n",
    "display(confusion_matrix(df_val['income'], y_pred_val))"
   ]
  },
  {
   "cell_type": "markdown",
   "id": "7c3c6c41",
   "metadata": {},
   "source": [
    "# lr from scratch"
   ]
  },
  {
   "cell_type": "code",
   "execution_count": 64,
   "id": "737a6555",
   "metadata": {
    "ExecuteTime": {
     "end_time": "2023-03-18T21:40:31.753799Z",
     "start_time": "2023-03-18T21:40:31.728433Z"
    }
   },
   "outputs": [],
   "source": [
    "class MyLogisticRegression:\n",
    "    def __init__(self):\n",
    "        self.n = None\n",
    "        self.m = None\n",
    "        self.w = None\n",
    "        self.b = None\n",
    "        self.X_train = None\n",
    "        self.y_train = None\n",
    "    \n",
    "    def init_params(self, X, y, reset=True):\n",
    "        self.X_train = self.to_numpy_transpose(X)\n",
    "        self.y_train = self.to_numpy_transpose(y)\n",
    "        self.n = self.X_train.shape[0]\n",
    "        self.m = self.X_train.shape[1]\n",
    "        if reset:\n",
    "            self.w = np.zeros((self.n, 1))\n",
    "            self.b = np.zeros((1, 1))\n",
    "    \n",
    "    def sigmoid(self, x):\n",
    "        return 1 / (1 + np.exp(-x))\n",
    "    \n",
    "    def step(self, x):\n",
    "        return (x > 0.5).astype(int)\n",
    "    \n",
    "    def to_numpy_transpose(self, x):\n",
    "        return np.array(x).reshape(-1, x.shape[0])\n",
    "    \n",
    "    def predict(self, x):\n",
    "        z = self.predict_proba(x)\n",
    "        return self.step(z)\n",
    "    # ----------\n",
    "    def predict_proba(self, X):\n",
    "        A = self.sigmoid(self.w.T @ X + self.b)\n",
    "        return A\n",
    "    \n",
    "    def fit(self, X, y, n_epoch=100, lr=0.01, print_every=10, reset=True):\n",
    "        self.init_params(X, y, reset=reset)\n",
    "        for i in range(n_epoch):\n",
    "            # calculate output of function\n",
    "            probs = self.predict_proba(self.X_train)\n",
    "            # calculate cost\n",
    "            cost = self.calculate_cost(self.y_train, probs)\n",
    "            # calculate gradients\n",
    "            grads = self.calculate_gradients(self.X_train, self.y_train, probs)\n",
    "            # update params\n",
    "            self.w = self.w - lr * grads['dw']\n",
    "            self.b = self.b - lr * grads['db']\n",
    "            # print cost\n",
    "            if i % print_every == 0:\n",
    "                print(cost)\n",
    "        \n",
    "    \n",
    "    def calculate_cost(self, y, probs):\n",
    "        cost = -(1. / self.m) * np.sum(y * np.log(probs) + (1 - y) * np.log(1 - probs))\n",
    "        return cost\n",
    "    \n",
    "    def calculate_gradients(self, X, y, probs):\n",
    "        dz = probs - y\n",
    "        dw = (X @ dz.T) / self.m\n",
    "        db = np.sum(dz) / self.m\n",
    "        grads = {'dw': dw, 'db': db}\n",
    "        return grads\n",
    "    # ----------\n",
    "    \n",
    "    def get_params(self):\n",
    "        pass\n",
    "        \n",
    "    def set_params(self):\n",
    "        pass"
   ]
  },
  {
   "cell_type": "code",
   "execution_count": 65,
   "id": "ea6a448a",
   "metadata": {
    "ExecuteTime": {
     "end_time": "2023-03-18T21:40:32.271292Z",
     "start_time": "2023-03-18T21:40:32.153096Z"
    }
   },
   "outputs": [
    {
     "name": "stdout",
     "output_type": "stream",
     "text": [
      "0.6931471805599453\n",
      "0.6397721039906498\n",
      "0.6074172111983632\n",
      "0.5875286762492731\n",
      "0.5751025738373576\n",
      "0.5672159755740575\n",
      "0.5621397463002353\n",
      "0.558832661192271\n",
      "0.5566559920150475\n",
      "0.5552110096474735\n"
     ]
    }
   ],
   "source": [
    "l = MyLogisticRegression()\n",
    "\n",
    "l.fit(df_train.drop(columns='income'), df_train['income'], lr=1e-1)\n"
   ]
  },
  {
   "cell_type": "code",
   "execution_count": 66,
   "id": "b31eff39",
   "metadata": {
    "ExecuteTime": {
     "end_time": "2023-03-18T21:40:33.850625Z",
     "start_time": "2023-03-18T21:40:33.724150Z"
    }
   },
   "outputs": [
    {
     "name": "stdout",
     "output_type": "stream",
     "text": [
      "0.554244873244044\n",
      "0.5522446163757838\n",
      "0.5522120747833296\n",
      "0.5522114848171068\n",
      "0.5522114737896131\n",
      "0.5522114735792402\n",
      "0.5522114735751488\n",
      "0.5522114735750676\n",
      "0.5522114735750661\n",
      "0.5522114735750661\n"
     ]
    }
   ],
   "source": [
    "l.fit(df_train.drop(columns='income'), df_train['income'], lr=1e0, reset=False)"
   ]
  },
  {
   "cell_type": "code",
   "execution_count": null,
   "id": "54d96f70",
   "metadata": {},
   "outputs": [],
   "source": []
  }
 ],
 "metadata": {
  "kernelspec": {
   "display_name": "nn_env",
   "language": "python",
   "name": "nn_env"
  },
  "language_info": {
   "codemirror_mode": {
    "name": "ipython",
    "version": 3
   },
   "file_extension": ".py",
   "mimetype": "text/x-python",
   "name": "python",
   "nbconvert_exporter": "python",
   "pygments_lexer": "ipython3",
   "version": "3.9.12"
  },
  "latex_envs": {
   "LaTeX_envs_menu_present": true,
   "autoclose": false,
   "autocomplete": true,
   "bibliofile": "biblio.bib",
   "cite_by": "apalike",
   "current_citInitial": 1,
   "eqLabelWithNumbers": true,
   "eqNumInitial": 1,
   "hotkeys": {
    "equation": "Ctrl-E",
    "itemize": "Ctrl-I"
   },
   "labels_anchors": false,
   "latex_user_defs": false,
   "report_style_numbering": false,
   "user_envs_cfg": false
  },
  "toc": {
   "base_numbering": 1,
   "nav_menu": {},
   "number_sections": true,
   "sideBar": true,
   "skip_h1_title": false,
   "title_cell": "Table of Contents",
   "title_sidebar": "Contents",
   "toc_cell": false,
   "toc_position": {
    "height": "calc(100% - 180px)",
    "left": "10px",
    "top": "150px",
    "width": "372px"
   },
   "toc_section_display": true,
   "toc_window_display": true
  }
 },
 "nbformat": 4,
 "nbformat_minor": 5
}
