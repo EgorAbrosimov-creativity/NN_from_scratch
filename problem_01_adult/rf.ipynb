{
 "cells": [
  {
   "cell_type": "markdown",
   "id": "b78db4eb",
   "metadata": {},
   "source": [
    "# Impors"
   ]
  },
  {
   "cell_type": "code",
   "execution_count": 8,
   "id": "6744d48b",
   "metadata": {
    "ExecuteTime": {
     "end_time": "2023-03-17T21:47:11.347170Z",
     "start_time": "2023-03-17T21:47:11.342795Z"
    }
   },
   "outputs": [],
   "source": [
    "import pandas as pd\n",
    "from sklearn.preprocessing import StandardScaler\n",
    "\n",
    "from sklearn.ensemble import RandomForestClassifier\n",
    "\n",
    "from sklearn.metrics import balanced_accuracy_score, confusion_matrix"
   ]
  },
  {
   "cell_type": "markdown",
   "id": "fa398f08",
   "metadata": {},
   "source": [
    "# Load data"
   ]
  },
  {
   "cell_type": "code",
   "execution_count": 9,
   "id": "9bace504",
   "metadata": {
    "ExecuteTime": {
     "end_time": "2023-03-17T21:47:12.185299Z",
     "start_time": "2023-03-17T21:47:12.121109Z"
    }
   },
   "outputs": [
    {
     "name": "stdout",
     "output_type": "stream",
     "text": [
      "(27838, 18)\n"
     ]
    },
    {
     "data": {
      "text/html": [
       "<div>\n",
       "<style scoped>\n",
       "    .dataframe tbody tr th:only-of-type {\n",
       "        vertical-align: middle;\n",
       "    }\n",
       "\n",
       "    .dataframe tbody tr th {\n",
       "        vertical-align: top;\n",
       "    }\n",
       "\n",
       "    .dataframe thead th {\n",
       "        text-align: right;\n",
       "    }\n",
       "</style>\n",
       "<table border=\"1\" class=\"dataframe\">\n",
       "  <thead>\n",
       "    <tr style=\"text-align: right;\">\n",
       "      <th></th>\n",
       "      <th>age</th>\n",
       "      <th>workclass</th>\n",
       "      <th>fnlwgt</th>\n",
       "      <th>education</th>\n",
       "      <th>education.num</th>\n",
       "      <th>marital.status</th>\n",
       "      <th>occupation</th>\n",
       "      <th>relationship</th>\n",
       "      <th>race</th>\n",
       "      <th>sex</th>\n",
       "      <th>capital.gain</th>\n",
       "      <th>capital.loss</th>\n",
       "      <th>hours.per.week</th>\n",
       "      <th>native.country</th>\n",
       "      <th>income</th>\n",
       "      <th>native.country_is_NA</th>\n",
       "      <th>workclass_is_NA</th>\n",
       "      <th>occupation_is_NA</th>\n",
       "    </tr>\n",
       "  </thead>\n",
       "  <tbody>\n",
       "    <tr>\n",
       "      <th>0</th>\n",
       "      <td>31</td>\n",
       "      <td>3</td>\n",
       "      <td>124827</td>\n",
       "      <td>8</td>\n",
       "      <td>11</td>\n",
       "      <td>2</td>\n",
       "      <td>11</td>\n",
       "      <td>0</td>\n",
       "      <td>4</td>\n",
       "      <td>1</td>\n",
       "      <td>0</td>\n",
       "      <td>0</td>\n",
       "      <td>40</td>\n",
       "      <td>38</td>\n",
       "      <td>&gt;50K</td>\n",
       "      <td>False</td>\n",
       "      <td>False</td>\n",
       "      <td>False</td>\n",
       "    </tr>\n",
       "    <tr>\n",
       "      <th>1</th>\n",
       "      <td>27</td>\n",
       "      <td>4</td>\n",
       "      <td>89718</td>\n",
       "      <td>15</td>\n",
       "      <td>10</td>\n",
       "      <td>5</td>\n",
       "      <td>11</td>\n",
       "      <td>3</td>\n",
       "      <td>4</td>\n",
       "      <td>0</td>\n",
       "      <td>0</td>\n",
       "      <td>0</td>\n",
       "      <td>40</td>\n",
       "      <td>38</td>\n",
       "      <td>&lt;=50K</td>\n",
       "      <td>False</td>\n",
       "      <td>False</td>\n",
       "      <td>False</td>\n",
       "    </tr>\n",
       "    <tr>\n",
       "      <th>2</th>\n",
       "      <td>37</td>\n",
       "      <td>3</td>\n",
       "      <td>224947</td>\n",
       "      <td>8</td>\n",
       "      <td>11</td>\n",
       "      <td>4</td>\n",
       "      <td>7</td>\n",
       "      <td>1</td>\n",
       "      <td>4</td>\n",
       "      <td>1</td>\n",
       "      <td>0</td>\n",
       "      <td>0</td>\n",
       "      <td>40</td>\n",
       "      <td>38</td>\n",
       "      <td>&lt;=50K</td>\n",
       "      <td>False</td>\n",
       "      <td>False</td>\n",
       "      <td>False</td>\n",
       "    </tr>\n",
       "    <tr>\n",
       "      <th>3</th>\n",
       "      <td>40</td>\n",
       "      <td>6</td>\n",
       "      <td>269733</td>\n",
       "      <td>8</td>\n",
       "      <td>11</td>\n",
       "      <td>4</td>\n",
       "      <td>2</td>\n",
       "      <td>1</td>\n",
       "      <td>4</td>\n",
       "      <td>1</td>\n",
       "      <td>0</td>\n",
       "      <td>0</td>\n",
       "      <td>40</td>\n",
       "      <td>38</td>\n",
       "      <td>&lt;=50K</td>\n",
       "      <td>False</td>\n",
       "      <td>False</td>\n",
       "      <td>False</td>\n",
       "    </tr>\n",
       "    <tr>\n",
       "      <th>4</th>\n",
       "      <td>57</td>\n",
       "      <td>4</td>\n",
       "      <td>125000</td>\n",
       "      <td>14</td>\n",
       "      <td>15</td>\n",
       "      <td>2</td>\n",
       "      <td>9</td>\n",
       "      <td>0</td>\n",
       "      <td>4</td>\n",
       "      <td>1</td>\n",
       "      <td>0</td>\n",
       "      <td>0</td>\n",
       "      <td>35</td>\n",
       "      <td>38</td>\n",
       "      <td>&gt;50K</td>\n",
       "      <td>False</td>\n",
       "      <td>False</td>\n",
       "      <td>False</td>\n",
       "    </tr>\n",
       "  </tbody>\n",
       "</table>\n",
       "</div>"
      ],
      "text/plain": [
       "   age  workclass  fnlwgt  education  education.num  marital.status  \\\n",
       "0   31          3  124827          8             11               2   \n",
       "1   27          4   89718         15             10               5   \n",
       "2   37          3  224947          8             11               4   \n",
       "3   40          6  269733          8             11               4   \n",
       "4   57          4  125000         14             15               2   \n",
       "\n",
       "   occupation  relationship  race  sex  capital.gain  capital.loss  \\\n",
       "0          11             0     4    1             0             0   \n",
       "1          11             3     4    0             0             0   \n",
       "2           7             1     4    1             0             0   \n",
       "3           2             1     4    1             0             0   \n",
       "4           9             0     4    1             0             0   \n",
       "\n",
       "   hours.per.week  native.country income  native.country_is_NA  \\\n",
       "0              40              38   >50K                 False   \n",
       "1              40              38  <=50K                 False   \n",
       "2              40              38  <=50K                 False   \n",
       "3              40              38  <=50K                 False   \n",
       "4              35              38   >50K                 False   \n",
       "\n",
       "   workclass_is_NA  occupation_is_NA  \n",
       "0            False             False  \n",
       "1            False             False  \n",
       "2            False             False  \n",
       "3            False             False  \n",
       "4            False             False  "
      ]
     },
     "execution_count": 9,
     "metadata": {},
     "output_type": "execute_result"
    }
   ],
   "source": [
    "df_train = pd.read_csv('data/ready/train.csv')\n",
    "print(df_train.shape)\n",
    "df_train.head()"
   ]
  },
  {
   "cell_type": "code",
   "execution_count": 10,
   "id": "2f46e859",
   "metadata": {
    "ExecuteTime": {
     "end_time": "2023-03-17T21:47:12.336259Z",
     "start_time": "2023-03-17T21:47:12.308573Z"
    }
   },
   "outputs": [
    {
     "name": "stdout",
     "output_type": "stream",
     "text": [
      "(3094, 18)\n"
     ]
    },
    {
     "data": {
      "text/html": [
       "<div>\n",
       "<style scoped>\n",
       "    .dataframe tbody tr th:only-of-type {\n",
       "        vertical-align: middle;\n",
       "    }\n",
       "\n",
       "    .dataframe tbody tr th {\n",
       "        vertical-align: top;\n",
       "    }\n",
       "\n",
       "    .dataframe thead th {\n",
       "        text-align: right;\n",
       "    }\n",
       "</style>\n",
       "<table border=\"1\" class=\"dataframe\">\n",
       "  <thead>\n",
       "    <tr style=\"text-align: right;\">\n",
       "      <th></th>\n",
       "      <th>age</th>\n",
       "      <th>workclass</th>\n",
       "      <th>fnlwgt</th>\n",
       "      <th>education</th>\n",
       "      <th>education.num</th>\n",
       "      <th>marital.status</th>\n",
       "      <th>occupation</th>\n",
       "      <th>relationship</th>\n",
       "      <th>race</th>\n",
       "      <th>sex</th>\n",
       "      <th>capital.gain</th>\n",
       "      <th>capital.loss</th>\n",
       "      <th>hours.per.week</th>\n",
       "      <th>native.country</th>\n",
       "      <th>income</th>\n",
       "      <th>native.country_is_NA</th>\n",
       "      <th>workclass_is_NA</th>\n",
       "      <th>occupation_is_NA</th>\n",
       "    </tr>\n",
       "  </thead>\n",
       "  <tbody>\n",
       "    <tr>\n",
       "      <th>0</th>\n",
       "      <td>58</td>\n",
       "      <td>3</td>\n",
       "      <td>128162</td>\n",
       "      <td>11</td>\n",
       "      <td>9</td>\n",
       "      <td>0</td>\n",
       "      <td>11</td>\n",
       "      <td>1</td>\n",
       "      <td>4</td>\n",
       "      <td>0</td>\n",
       "      <td>0</td>\n",
       "      <td>0</td>\n",
       "      <td>24</td>\n",
       "      <td>38</td>\n",
       "      <td>&lt;=50K</td>\n",
       "      <td>False</td>\n",
       "      <td>False</td>\n",
       "      <td>False</td>\n",
       "    </tr>\n",
       "    <tr>\n",
       "      <th>1</th>\n",
       "      <td>25</td>\n",
       "      <td>3</td>\n",
       "      <td>570821</td>\n",
       "      <td>15</td>\n",
       "      <td>10</td>\n",
       "      <td>2</td>\n",
       "      <td>6</td>\n",
       "      <td>0</td>\n",
       "      <td>4</td>\n",
       "      <td>1</td>\n",
       "      <td>0</td>\n",
       "      <td>0</td>\n",
       "      <td>40</td>\n",
       "      <td>38</td>\n",
       "      <td>&lt;=50K</td>\n",
       "      <td>False</td>\n",
       "      <td>False</td>\n",
       "      <td>False</td>\n",
       "    </tr>\n",
       "    <tr>\n",
       "      <th>2</th>\n",
       "      <td>50</td>\n",
       "      <td>3</td>\n",
       "      <td>43764</td>\n",
       "      <td>10</td>\n",
       "      <td>16</td>\n",
       "      <td>2</td>\n",
       "      <td>9</td>\n",
       "      <td>0</td>\n",
       "      <td>4</td>\n",
       "      <td>1</td>\n",
       "      <td>15024</td>\n",
       "      <td>0</td>\n",
       "      <td>50</td>\n",
       "      <td>38</td>\n",
       "      <td>&gt;50K</td>\n",
       "      <td>False</td>\n",
       "      <td>False</td>\n",
       "      <td>False</td>\n",
       "    </tr>\n",
       "    <tr>\n",
       "      <th>3</th>\n",
       "      <td>21</td>\n",
       "      <td>7</td>\n",
       "      <td>207988</td>\n",
       "      <td>11</td>\n",
       "      <td>9</td>\n",
       "      <td>2</td>\n",
       "      <td>14</td>\n",
       "      <td>2</td>\n",
       "      <td>4</td>\n",
       "      <td>0</td>\n",
       "      <td>0</td>\n",
       "      <td>0</td>\n",
       "      <td>35</td>\n",
       "      <td>38</td>\n",
       "      <td>&lt;=50K</td>\n",
       "      <td>False</td>\n",
       "      <td>True</td>\n",
       "      <td>True</td>\n",
       "    </tr>\n",
       "    <tr>\n",
       "      <th>4</th>\n",
       "      <td>41</td>\n",
       "      <td>5</td>\n",
       "      <td>112362</td>\n",
       "      <td>11</td>\n",
       "      <td>9</td>\n",
       "      <td>2</td>\n",
       "      <td>4</td>\n",
       "      <td>0</td>\n",
       "      <td>4</td>\n",
       "      <td>1</td>\n",
       "      <td>0</td>\n",
       "      <td>0</td>\n",
       "      <td>38</td>\n",
       "      <td>38</td>\n",
       "      <td>&lt;=50K</td>\n",
       "      <td>False</td>\n",
       "      <td>False</td>\n",
       "      <td>False</td>\n",
       "    </tr>\n",
       "  </tbody>\n",
       "</table>\n",
       "</div>"
      ],
      "text/plain": [
       "   age  workclass  fnlwgt  education  education.num  marital.status  \\\n",
       "0   58          3  128162         11              9               0   \n",
       "1   25          3  570821         15             10               2   \n",
       "2   50          3   43764         10             16               2   \n",
       "3   21          7  207988         11              9               2   \n",
       "4   41          5  112362         11              9               2   \n",
       "\n",
       "   occupation  relationship  race  sex  capital.gain  capital.loss  \\\n",
       "0          11             1     4    0             0             0   \n",
       "1           6             0     4    1             0             0   \n",
       "2           9             0     4    1         15024             0   \n",
       "3          14             2     4    0             0             0   \n",
       "4           4             0     4    1             0             0   \n",
       "\n",
       "   hours.per.week  native.country income  native.country_is_NA  \\\n",
       "0              24              38  <=50K                 False   \n",
       "1              40              38  <=50K                 False   \n",
       "2              50              38   >50K                 False   \n",
       "3              35              38  <=50K                 False   \n",
       "4              38              38  <=50K                 False   \n",
       "\n",
       "   workclass_is_NA  occupation_is_NA  \n",
       "0            False             False  \n",
       "1            False             False  \n",
       "2            False             False  \n",
       "3             True              True  \n",
       "4            False             False  "
      ]
     },
     "execution_count": 10,
     "metadata": {},
     "output_type": "execute_result"
    }
   ],
   "source": [
    "df_val = pd.read_csv('data/ready/val.csv')\n",
    "print(df_val.shape)\n",
    "df_val.head()"
   ]
  },
  {
   "cell_type": "markdown",
   "id": "551bafe3",
   "metadata": {},
   "source": [
    "# Prepare dataset"
   ]
  },
  {
   "cell_type": "markdown",
   "id": "bb3ce83c",
   "metadata": {},
   "source": [
    "## Prep target"
   ]
  },
  {
   "cell_type": "code",
   "execution_count": 11,
   "id": "80ee4991",
   "metadata": {
    "ExecuteTime": {
     "end_time": "2023-03-17T21:47:13.011702Z",
     "start_time": "2023-03-17T21:47:12.995804Z"
    }
   },
   "outputs": [
    {
     "data": {
      "text/plain": [
       "0    2356\n",
       "1     738\n",
       "Name: income, dtype: int64"
      ]
     },
     "execution_count": 11,
     "metadata": {},
     "output_type": "execute_result"
    }
   ],
   "source": [
    "target_dict = {'<=50K': 0\n",
    "              , '>50K': 1}\n",
    "\n",
    "df_val['income'].replace(target_dict, inplace=True)\n",
    "df_val['income'].value_counts()"
   ]
  },
  {
   "cell_type": "code",
   "execution_count": 12,
   "id": "dff8cf59",
   "metadata": {
    "ExecuteTime": {
     "end_time": "2023-03-17T21:47:13.249449Z",
     "start_time": "2023-03-17T21:47:13.218470Z"
    }
   },
   "outputs": [
    {
     "data": {
      "text/plain": [
       "0    21123\n",
       "1     6715\n",
       "Name: income, dtype: int64"
      ]
     },
     "execution_count": 12,
     "metadata": {},
     "output_type": "execute_result"
    }
   ],
   "source": [
    "df_train['income'].replace(target_dict, inplace=True)\n",
    "df_train['income'].value_counts()"
   ]
  },
  {
   "cell_type": "markdown",
   "id": "d38d4729",
   "metadata": {},
   "source": [
    "# sklearn model"
   ]
  },
  {
   "cell_type": "code",
   "execution_count": 14,
   "id": "b10ffe0b",
   "metadata": {
    "ExecuteTime": {
     "end_time": "2023-03-17T21:48:06.992117Z",
     "start_time": "2023-03-17T21:48:06.848926Z"
    }
   },
   "outputs": [
    {
     "name": "stdout",
     "output_type": "stream",
     "text": [
      "Train Balanced accuracy: 1.0\n",
      "Validation Balanced accuracy: 0.7381171753143678\n"
     ]
    },
    {
     "data": {
      "text/plain": [
       "array([[2051,  305],\n",
       "       [ 291,  447]])"
      ]
     },
     "metadata": {},
     "output_type": "display_data"
    }
   ],
   "source": [
    "lr = RandomForestClassifier(n_estimators=1, bootstrap=False)\n",
    "\n",
    "lr.fit(df_train.drop(columns='income'), df_train['income'])\n",
    "\n",
    "y_pred_train = lr.predict(df_train.drop(columns='income'))\n",
    "y_pred_val = lr.predict(df_val.drop(columns='income'))\n",
    "\n",
    "print('Train Balanced accuracy:', balanced_accuracy_score(df_train['income'], y_pred_train))\n",
    "print('Validation Balanced accuracy:', balanced_accuracy_score(df_val['income'], y_pred_val))\n",
    "\n",
    "display(confusion_matrix(df_val['income'], y_pred_val))"
   ]
  },
  {
   "cell_type": "code",
   "execution_count": 15,
   "id": "00d0be16",
   "metadata": {
    "ExecuteTime": {
     "end_time": "2023-03-17T21:48:34.194289Z",
     "start_time": "2023-03-17T21:48:32.035660Z"
    }
   },
   "outputs": [
    {
     "name": "stdout",
     "output_type": "stream",
     "text": [
      "Train Balanced accuracy: 0.8549197130631074\n",
      "Validation Balanced accuracy: 0.7873209610703917\n"
     ]
    },
    {
     "data": {
      "text/plain": [
       "array([[2219,  137],\n",
       "       [ 271,  467]])"
      ]
     },
     "metadata": {},
     "output_type": "display_data"
    }
   ],
   "source": [
    "lr = RandomForestClassifier(min_samples_leaf=3)\n",
    "\n",
    "lr.fit(df_train.drop(columns='income'), df_train['income'])\n",
    "\n",
    "y_pred_train = lr.predict(df_train.drop(columns='income'))\n",
    "y_pred_val = lr.predict(df_val.drop(columns='income'))\n",
    "\n",
    "print('Train Balanced accuracy:', balanced_accuracy_score(df_train['income'], y_pred_train))\n",
    "print('Validation Balanced accuracy:', balanced_accuracy_score(df_val['income'], y_pred_val))\n",
    "\n",
    "display(confusion_matrix(df_val['income'], y_pred_val))"
   ]
  },
  {
   "cell_type": "code",
   "execution_count": 16,
   "id": "1ad7410f",
   "metadata": {
    "ExecuteTime": {
     "end_time": "2023-03-17T21:48:46.877790Z",
     "start_time": "2023-03-17T21:48:44.845219Z"
    }
   },
   "outputs": [
    {
     "name": "stdout",
     "output_type": "stream",
     "text": [
      "Train Balanced accuracy: 0.827813936236818\n",
      "Validation Balanced accuracy: 0.7889290331782775\n"
     ]
    },
    {
     "data": {
      "text/plain": [
       "array([[2217,  139],\n",
       "       [ 268,  470]])"
      ]
     },
     "metadata": {},
     "output_type": "display_data"
    }
   ],
   "source": [
    "lr = RandomForestClassifier(min_samples_leaf=5)\n",
    "\n",
    "lr.fit(df_train.drop(columns='income'), df_train['income'])\n",
    "\n",
    "y_pred_train = lr.predict(df_train.drop(columns='income'))\n",
    "y_pred_val = lr.predict(df_val.drop(columns='income'))\n",
    "\n",
    "print('Train Balanced accuracy:', balanced_accuracy_score(df_train['income'], y_pred_train))\n",
    "print('Validation Balanced accuracy:', balanced_accuracy_score(df_val['income'], y_pred_val))\n",
    "\n",
    "display(confusion_matrix(df_val['income'], y_pred_val))"
   ]
  },
  {
   "cell_type": "code",
   "execution_count": 17,
   "id": "44770d4e",
   "metadata": {
    "ExecuteTime": {
     "end_time": "2023-03-17T21:49:03.098005Z",
     "start_time": "2023-03-17T21:49:01.187038Z"
    }
   },
   "outputs": [
    {
     "name": "stdout",
     "output_type": "stream",
     "text": [
      "Train Balanced accuracy: 0.8013360070323841\n",
      "Validation Balanced accuracy: 0.7877454092877092\n"
     ]
    },
    {
     "data": {
      "text/plain": [
       "array([[2221,  135],\n",
       "       [ 271,  467]])"
      ]
     },
     "metadata": {},
     "output_type": "display_data"
    }
   ],
   "source": [
    "lr = RandomForestClassifier(min_samples_leaf=10)\n",
    "\n",
    "lr.fit(df_train.drop(columns='income'), df_train['income'])\n",
    "\n",
    "y_pred_train = lr.predict(df_train.drop(columns='income'))\n",
    "y_pred_val = lr.predict(df_val.drop(columns='income'))\n",
    "\n",
    "print('Train Balanced accuracy:', balanced_accuracy_score(df_train['income'], y_pred_train))\n",
    "print('Validation Balanced accuracy:', balanced_accuracy_score(df_val['income'], y_pred_val))\n",
    "\n",
    "display(confusion_matrix(df_val['income'], y_pred_val))"
   ]
  },
  {
   "cell_type": "code",
   "execution_count": 18,
   "id": "a69e47f8",
   "metadata": {
    "ExecuteTime": {
     "end_time": "2023-03-17T21:49:20.425495Z",
     "start_time": "2023-03-17T21:49:17.075816Z"
    }
   },
   "outputs": [
    {
     "name": "stdout",
     "output_type": "stream",
     "text": [
      "Train Balanced accuracy: 0.857316690184206\n",
      "Validation Balanced accuracy: 0.7827417514412836\n"
     ]
    },
    {
     "data": {
      "text/plain": [
       "array([[2207,  149],\n",
       "       [ 274,  464]])"
      ]
     },
     "metadata": {},
     "output_type": "display_data"
    }
   ],
   "source": [
    "lr = RandomForestClassifier(min_samples_leaf=5, max_features=0.5)\n",
    "\n",
    "lr.fit(df_train.drop(columns='income'), df_train['income'])\n",
    "\n",
    "y_pred_train = lr.predict(df_train.drop(columns='income'))\n",
    "y_pred_val = lr.predict(df_val.drop(columns='income'))\n",
    "\n",
    "print('Train Balanced accuracy:', balanced_accuracy_score(df_train['income'], y_pred_train))\n",
    "print('Validation Balanced accuracy:', balanced_accuracy_score(df_val['income'], y_pred_val))\n",
    "\n",
    "display(confusion_matrix(df_val['income'], y_pred_val))"
   ]
  },
  {
   "cell_type": "code",
   "execution_count": 19,
   "id": "088e734d",
   "metadata": {
    "ExecuteTime": {
     "end_time": "2023-03-17T21:49:33.925992Z",
     "start_time": "2023-03-17T21:49:29.351935Z"
    }
   },
   "outputs": [
    {
     "name": "stdout",
     "output_type": "stream",
     "text": [
      "Train Balanced accuracy: 0.8674418871081266\n",
      "Validation Balanced accuracy: 0.7835825960127174\n"
     ]
    },
    {
     "data": {
      "text/plain": [
       "array([[2195,  161],\n",
       "       [ 269,  469]])"
      ]
     },
     "metadata": {},
     "output_type": "display_data"
    }
   ],
   "source": [
    "lr = RandomForestClassifier(min_samples_leaf=5, max_features=0.75)\n",
    "\n",
    "lr.fit(df_train.drop(columns='income'), df_train['income'])\n",
    "\n",
    "y_pred_train = lr.predict(df_train.drop(columns='income'))\n",
    "y_pred_val = lr.predict(df_val.drop(columns='income'))\n",
    "\n",
    "print('Train Balanced accuracy:', balanced_accuracy_score(df_train['income'], y_pred_train))\n",
    "print('Validation Balanced accuracy:', balanced_accuracy_score(df_val['income'], y_pred_val))\n",
    "\n",
    "display(confusion_matrix(df_val['income'], y_pred_val))"
   ]
  },
  {
   "cell_type": "code",
   "execution_count": null,
   "id": "622e5e85",
   "metadata": {},
   "outputs": [],
   "source": []
  }
 ],
 "metadata": {
  "kernelspec": {
   "display_name": "nn_env",
   "language": "python",
   "name": "nn_env"
  },
  "language_info": {
   "codemirror_mode": {
    "name": "ipython",
    "version": 3
   },
   "file_extension": ".py",
   "mimetype": "text/x-python",
   "name": "python",
   "nbconvert_exporter": "python",
   "pygments_lexer": "ipython3",
   "version": "3.9.12"
  },
  "latex_envs": {
   "LaTeX_envs_menu_present": true,
   "autoclose": false,
   "autocomplete": true,
   "bibliofile": "biblio.bib",
   "cite_by": "apalike",
   "current_citInitial": 1,
   "eqLabelWithNumbers": true,
   "eqNumInitial": 1,
   "hotkeys": {
    "equation": "Ctrl-E",
    "itemize": "Ctrl-I"
   },
   "labels_anchors": false,
   "latex_user_defs": false,
   "report_style_numbering": false,
   "user_envs_cfg": false
  },
  "toc": {
   "base_numbering": 1,
   "nav_menu": {},
   "number_sections": true,
   "sideBar": true,
   "skip_h1_title": false,
   "title_cell": "Table of Contents",
   "title_sidebar": "Contents",
   "toc_cell": false,
   "toc_position": {
    "height": "calc(100% - 180px)",
    "left": "10px",
    "top": "150px",
    "width": "372px"
   },
   "toc_section_display": true,
   "toc_window_display": true
  }
 },
 "nbformat": 4,
 "nbformat_minor": 5
}
